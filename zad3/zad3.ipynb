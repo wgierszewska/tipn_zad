{
 "cells": [
  {
   "cell_type": "markdown",
   "metadata": {},
   "source": [
    "# Oceny "
   ]
  },
  {
   "cell_type": "markdown",
   "metadata": {},
   "source": [
    "Program ma wyliczyć średnią moich ocen. **moje dzieło** "
   ]
  },
  {
   "cell_type": "code",
   "execution_count": 46,
   "metadata": {},
   "outputs": [],
   "source": [
    "metodologia = 5.0\n",
    "ogolna = 4.0\n",
    "wf = 4.0\n",
    "przeglad = 5.0\n",
    "neuro = 3.0\n",
    "filozofia = 3.0\n",
    "komunikacja = 5.0\n",
    "stat = 5.0\n",
    "logika = 4.0\n",
    "ang = 3.0\n",
    "bmz = 4.0"
   ]
  },
  {
   "cell_type": "code",
   "execution_count": 47,
   "metadata": {},
   "outputs": [],
   "source": [
    "suma = metodologia + ogolna + wf + przeglad + neuro + filozofia + komunikacja + stat + logika + ang + bmz"
   ]
  },
  {
   "cell_type": "code",
   "execution_count": 55,
   "metadata": {},
   "outputs": [],
   "source": [
    "srednia = suma / 11"
   ]
  },
  {
   "cell_type": "code",
   "execution_count": 56,
   "metadata": {},
   "outputs": [
    {
     "name": "stdout",
     "output_type": "stream",
     "text": [
      "MOja srednia w pierwszym semestrze studiow to4.090909090909091\n"
     ]
    }
   ],
   "source": [
    "print(\"MOja srednia w pierwszym semestrze studiow to \" + str(srednia))"
   ]
  },
  {
   "cell_type": "code",
   "execution_count": null,
   "metadata": {},
   "outputs": [],
   "source": []
  }
 ],
 "metadata": {
  "kernelspec": {
   "display_name": "Python 3",
   "language": "python",
   "name": "python3"
  },
  "language_info": {
   "codemirror_mode": {
    "name": "ipython",
    "version": 3
   },
   "file_extension": ".py",
   "mimetype": "text/x-python",
   "name": "python",
   "nbconvert_exporter": "python",
   "pygments_lexer": "ipython3",
   "version": "3.7.0"
  }
 },
 "nbformat": 4,
 "nbformat_minor": 2
}
