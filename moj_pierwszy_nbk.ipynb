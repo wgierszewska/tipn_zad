{
 "cells": [
  {
   "cell_type": "markdown",
   "metadata": {},
   "source": [
    "## To jest nagłówek\n",
    "\n",
    "to jest markdown. xd **grube!** Działa! _kursywa_ :o \n"
   ]
  },
  {
   "cell_type": "code",
   "execution_count": 1,
   "metadata": {},
   "outputs": [
    {
     "name": "stdout",
     "output_type": "stream",
     "text": [
      "witaj świecie! xd\n"
     ]
    }
   ],
   "source": [
    "print(\"witaj świecie! xd\")"
   ]
  },
  {
   "cell_type": "code",
   "execution_count": 2,
   "metadata": {},
   "outputs": [
    {
     "name": "stdout",
     "output_type": "stream",
     "text": [
      "szukam sensu\n"
     ]
    }
   ],
   "source": [
    "print(\"szukam sensu\")"
   ]
  },
  {
   "cell_type": "code",
   "execution_count": 3,
   "metadata": {},
   "outputs": [],
   "source": [
    "#halo, którędy do wyjścia? \n",
    "\n",
    "# wehikuł czasu to byłby cud <: "
   ]
  },
  {
   "cell_type": "code",
   "execution_count": 4,
   "metadata": {},
   "outputs": [
    {
     "name": "stdout",
     "output_type": "stream",
     "text": [
      "2\n"
     ]
    }
   ],
   "source": [
    "print(2)"
   ]
  },
  {
   "cell_type": "code",
   "execution_count": 5,
   "metadata": {},
   "outputs": [
    {
     "name": "stdout",
     "output_type": "stream",
     "text": [
      "4\n"
     ]
    }
   ],
   "source": [
    "print(2+2)"
   ]
  },
  {
   "cell_type": "code",
   "execution_count": 6,
   "metadata": {},
   "outputs": [
    {
     "name": "stdout",
     "output_type": "stream",
     "text": [
      "0\n"
     ]
    }
   ],
   "source": [
    "print(2-2)"
   ]
  },
  {
   "cell_type": "code",
   "execution_count": 11,
   "metadata": {},
   "outputs": [
    {
     "name": "stdout",
     "output_type": "stream",
     "text": [
      "2+2\n"
     ]
    }
   ],
   "source": [
    "print(\"2+2\")"
   ]
  },
  {
   "cell_type": "code",
   "execution_count": 12,
   "metadata": {},
   "outputs": [
    {
     "data": {
      "text/plain": [
       "4"
      ]
     },
     "execution_count": 12,
     "metadata": {},
     "output_type": "execute_result"
    }
   ],
   "source": [
    "2 + 2"
   ]
  },
  {
   "cell_type": "code",
   "execution_count": 15,
   "metadata": {},
   "outputs": [
    {
     "data": {
      "text/plain": [
       "18"
      ]
     },
     "execution_count": 15,
     "metadata": {},
     "output_type": "execute_result"
    }
   ],
   "source": [
    "2 + 2\n",
    "2 - 2\n",
    "3 + 15"
   ]
  },
  {
   "cell_type": "code",
   "execution_count": 16,
   "metadata": {},
   "outputs": [],
   "source": [
    "# pokazało się tylko ostatnie :o "
   ]
  },
  {
   "cell_type": "code",
   "execution_count": 17,
   "metadata": {},
   "outputs": [
    {
     "data": {
      "text/plain": [
       "8"
      ]
     },
     "execution_count": 17,
     "metadata": {},
     "output_type": "execute_result"
    }
   ],
   "source": [
    "2 * 4"
   ]
  },
  {
   "cell_type": "code",
   "execution_count": 18,
   "metadata": {},
   "outputs": [
    {
     "data": {
      "text/plain": [
       "4505477876569229344"
      ]
     },
     "execution_count": 18,
     "metadata": {},
     "output_type": "execute_result"
    }
   ],
   "source": [
    "1920848902384 * 2345566"
   ]
  },
  {
   "cell_type": "code",
   "execution_count": 19,
   "metadata": {},
   "outputs": [
    {
     "data": {
      "text/plain": [
       "5.0"
      ]
     },
     "execution_count": 19,
     "metadata": {},
     "output_type": "execute_result"
    }
   ],
   "source": [
    "10 / 2"
   ]
  },
  {
   "cell_type": "code",
   "execution_count": 22,
   "metadata": {},
   "outputs": [],
   "source": [
    "# w ułamkach ma być kropka, nie przecinek !"
   ]
  },
  {
   "cell_type": "code",
   "execution_count": 24,
   "metadata": {},
   "outputs": [
    {
     "data": {
      "text/plain": [
       "256"
      ]
     },
     "execution_count": 24,
     "metadata": {},
     "output_type": "execute_result"
    }
   ],
   "source": [
    "2 ** 8  # potęgi ! "
   ]
  },
  {
   "cell_type": "code",
   "execution_count": 25,
   "metadata": {},
   "outputs": [
    {
     "data": {
      "text/plain": [
       "10000000000000000000000000000000000000000000000000000000000000000000000000000000000000000000000000000000000000000000000000000000000000000000000000000000000000000000000000000000000000000000000000000000000000000000000000000000000000000000000000000000000000000000000000000000000000000000000000000000000000000000000000000000000000000000000000000000000000000000000000000000000000000000000000000000000000000000000000000000000000000000000000000000000000000000000000000000000000000000000000000000000000000000000000000000000000000000000000000000000000000000000000000000000000000000000000000000000000000000000000000000000000000000000000000000000000000000000000000000000000000000000000000000000000000000000000000000000000000000000000000000000000000000000000000000000000000000000000000000000000000000000000000000000000000000000000000000000000000000000000000000000000000000000000000000000000000000000000000000000000000000000000000000000000000000000000000000000000000000000000000000000000000000000000000000000000000"
      ]
     },
     "execution_count": 25,
     "metadata": {},
     "output_type": "execute_result"
    }
   ],
   "source": [
    "10 ** 1000"
   ]
  },
  {
   "cell_type": "code",
   "execution_count": 26,
   "metadata": {},
   "outputs": [],
   "source": [
    "import math"
   ]
  },
  {
   "cell_type": "code",
   "execution_count": 28,
   "metadata": {},
   "outputs": [
    {
     "data": {
      "text/plain": [
       "2.0"
      ]
     },
     "execution_count": 28,
     "metadata": {},
     "output_type": "execute_result"
    }
   ],
   "source": [
    "math.sqrt(4) #pierwiastek ;o"
   ]
  },
  {
   "cell_type": "code",
   "execution_count": 1,
   "metadata": {},
   "outputs": [
    {
     "name": "stdout",
     "output_type": "stream",
     "text": [
      "co ja tu robię XD\n"
     ]
    }
   ],
   "source": [
    "print(\"co ja tu robię XD\")"
   ]
  },
  {
   "cell_type": "code",
   "execution_count": 7,
   "metadata": {},
   "outputs": [
    {
     "data": {
      "text/plain": [
       "0"
      ]
     },
     "execution_count": 7,
     "metadata": {},
     "output_type": "execute_result"
    }
   ],
   "source": [
    "10 % 5 #reszta z dzielenia ;) "
   ]
  },
  {
   "cell_type": "code",
   "execution_count": 3,
   "metadata": {},
   "outputs": [
    {
     "data": {
      "text/plain": [
       "1"
      ]
     },
     "execution_count": 3,
     "metadata": {},
     "output_type": "execute_result"
    }
   ],
   "source": [
    "11 % 5"
   ]
  },
  {
   "cell_type": "code",
   "execution_count": 4,
   "metadata": {},
   "outputs": [
    {
     "data": {
      "text/plain": [
       "4"
      ]
     },
     "execution_count": 4,
     "metadata": {},
     "output_type": "execute_result"
    }
   ],
   "source": [
    "14 % 5"
   ]
  },
  {
   "cell_type": "code",
   "execution_count": 5,
   "metadata": {},
   "outputs": [
    {
     "data": {
      "text/plain": [
       "0"
      ]
     },
     "execution_count": 5,
     "metadata": {},
     "output_type": "execute_result"
    }
   ],
   "source": [
    "15 % 5"
   ]
  },
  {
   "cell_type": "code",
   "execution_count": 8,
   "metadata": {},
   "outputs": [
    {
     "data": {
      "text/plain": [
       "2"
      ]
     },
     "execution_count": 8,
     "metadata": {},
     "output_type": "execute_result"
    }
   ],
   "source": [
    "1 + (15 ** 15 > 150412 *2) #nawias to jeden, bo to prawda ;p hehe"
   ]
  },
  {
   "cell_type": "code",
   "execution_count": 9,
   "metadata": {},
   "outputs": [],
   "source": [
    "a = 4"
   ]
  },
  {
   "cell_type": "code",
   "execution_count": 10,
   "metadata": {},
   "outputs": [],
   "source": [
    "b = 6"
   ]
  },
  {
   "cell_type": "code",
   "execution_count": 11,
   "metadata": {},
   "outputs": [],
   "source": [
    "c = \"życie xd\""
   ]
  },
  {
   "cell_type": "code",
   "execution_count": 12,
   "metadata": {},
   "outputs": [
    {
     "data": {
      "text/plain": [
       "10"
      ]
     },
     "execution_count": 12,
     "metadata": {},
     "output_type": "execute_result"
    }
   ],
   "source": [
    "a + b    # wow ;o"
   ]
  },
  {
   "cell_type": "code",
   "execution_count": 13,
   "metadata": {},
   "outputs": [
    {
     "data": {
      "text/plain": [
       "'życie xd'"
      ]
     },
     "execution_count": 13,
     "metadata": {},
     "output_type": "execute_result"
    }
   ],
   "source": [
    "c"
   ]
  },
  {
   "cell_type": "code",
   "execution_count": 14,
   "metadata": {},
   "outputs": [],
   "source": [
    "c = \"chcę do domuuuu\""
   ]
  },
  {
   "cell_type": "code",
   "execution_count": 15,
   "metadata": {},
   "outputs": [
    {
     "data": {
      "text/plain": [
       "'chcę do domuuuu'"
      ]
     },
     "execution_count": 15,
     "metadata": {},
     "output_type": "execute_result"
    }
   ],
   "source": [
    "c"
   ]
  },
  {
   "cell_type": "code",
   "execution_count": 18,
   "metadata": {},
   "outputs": [
    {
     "data": {
      "text/plain": [
       "('chcę do domuuuu',\n",
       " 'chcę do domuuuu',\n",
       " 'chcę do domuuuu',\n",
       " 'chcę do domuuuu',\n",
       " 'chcę do domuuuu')"
      ]
     },
     "execution_count": 18,
     "metadata": {},
     "output_type": "execute_result"
    }
   ],
   "source": [
    "c, c, c, c, c"
   ]
  },
  {
   "cell_type": "code",
   "execution_count": 19,
   "metadata": {},
   "outputs": [],
   "source": [
    "kapusta = \"co ja tu robię xdddddddd\""
   ]
  },
  {
   "cell_type": "code",
   "execution_count": 21,
   "metadata": {},
   "outputs": [
    {
     "data": {
      "text/plain": [
       "('co ja tu robię xdddddddd', 'co ja tu robię xdddddddd', 'chcę do domuuuu')"
      ]
     },
     "execution_count": 21,
     "metadata": {},
     "output_type": "execute_result"
    }
   ],
   "source": [
    "kapusta, kapusta, c"
   ]
  },
  {
   "cell_type": "code",
   "execution_count": 22,
   "metadata": {},
   "outputs": [
    {
     "data": {
      "text/plain": [
       "24"
      ]
     },
     "execution_count": 22,
     "metadata": {},
     "output_type": "execute_result"
    }
   ],
   "source": [
    "a * b"
   ]
  },
  {
   "cell_type": "code",
   "execution_count": 23,
   "metadata": {},
   "outputs": [
    {
     "data": {
      "text/plain": [
       "25"
      ]
     },
     "execution_count": 23,
     "metadata": {},
     "output_type": "execute_result"
    }
   ],
   "source": [
    "a*b+1"
   ]
  },
  {
   "cell_type": "code",
   "execution_count": 25,
   "metadata": {},
   "outputs": [
    {
     "data": {
      "text/plain": [
       "-28"
      ]
     },
     "execution_count": 25,
     "metadata": {},
     "output_type": "execute_result"
    }
   ],
   "source": [
    "a * (b-13)"
   ]
  },
  {
   "cell_type": "code",
   "execution_count": 26,
   "metadata": {},
   "outputs": [
    {
     "data": {
      "text/plain": [
       "str"
      ]
     },
     "execution_count": 26,
     "metadata": {},
     "output_type": "execute_result"
    }
   ],
   "source": [
    "type(c)"
   ]
  },
  {
   "cell_type": "code",
   "execution_count": 27,
   "metadata": {},
   "outputs": [
    {
     "data": {
      "text/plain": [
       "int"
      ]
     },
     "execution_count": 27,
     "metadata": {},
     "output_type": "execute_result"
    }
   ],
   "source": [
    "type(b)"
   ]
  },
  {
   "cell_type": "code",
   "execution_count": 29,
   "metadata": {},
   "outputs": [
    {
     "data": {
      "text/plain": [
       "0.6666666666666666"
      ]
     },
     "execution_count": 29,
     "metadata": {},
     "output_type": "execute_result"
    }
   ],
   "source": [
    "d = a / b\n",
    "d"
   ]
  },
  {
   "cell_type": "code",
   "execution_count": 30,
   "metadata": {},
   "outputs": [
    {
     "data": {
      "text/plain": [
       "float"
      ]
     },
     "execution_count": 30,
     "metadata": {},
     "output_type": "execute_result"
    }
   ],
   "source": [
    "type(d)"
   ]
  },
  {
   "cell_type": "code",
   "execution_count": 31,
   "metadata": {},
   "outputs": [
    {
     "data": {
      "text/plain": [
       "int"
      ]
     },
     "execution_count": 31,
     "metadata": {},
     "output_type": "execute_result"
    }
   ],
   "source": [
    "type(1000)"
   ]
  },
  {
   "cell_type": "code",
   "execution_count": 32,
   "metadata": {},
   "outputs": [
    {
     "data": {
      "text/plain": [
       "str"
      ]
     },
     "execution_count": 32,
     "metadata": {},
     "output_type": "execute_result"
    }
   ],
   "source": [
    "type(\"co to\")"
   ]
  },
  {
   "cell_type": "code",
   "execution_count": 33,
   "metadata": {},
   "outputs": [
    {
     "data": {
      "text/plain": [
       "float"
      ]
     },
     "execution_count": 33,
     "metadata": {},
     "output_type": "execute_result"
    }
   ],
   "source": [
    "type(10.0)"
   ]
  },
  {
   "cell_type": "code",
   "execution_count": 34,
   "metadata": {},
   "outputs": [
    {
     "data": {
      "text/plain": [
       "bool"
      ]
     },
     "execution_count": 34,
     "metadata": {},
     "output_type": "execute_result"
    }
   ],
   "source": [
    "type(False)"
   ]
  },
  {
   "cell_type": "code",
   "execution_count": 35,
   "metadata": {},
   "outputs": [
    {
     "data": {
      "text/plain": [
       "bool"
      ]
     },
     "execution_count": 35,
     "metadata": {},
     "output_type": "execute_result"
    }
   ],
   "source": [
    "type(True)"
   ]
  },
  {
   "cell_type": "code",
   "execution_count": 36,
   "metadata": {},
   "outputs": [
    {
     "ename": "NameError",
     "evalue": "name 'true' is not defined",
     "output_type": "error",
     "traceback": [
      "\u001b[0;31m---------------------------------------------------------------------------\u001b[0m",
      "\u001b[0;31mNameError\u001b[0m                                 Traceback (most recent call last)",
      "\u001b[0;32m<ipython-input-36-6f4d8242c3d0>\u001b[0m in \u001b[0;36m<module>\u001b[0;34m()\u001b[0m\n\u001b[0;32m----> 1\u001b[0;31m \u001b[0mtype\u001b[0m\u001b[0;34m(\u001b[0m\u001b[0mtrue\u001b[0m\u001b[0;34m)\u001b[0m\u001b[0;34m\u001b[0m\u001b[0m\n\u001b[0m",
      "\u001b[0;31mNameError\u001b[0m: name 'true' is not defined"
     ]
    }
   ],
   "source": [
    "type(true) "
   ]
  },
  {
   "cell_type": "code",
   "execution_count": 39,
   "metadata": {},
   "outputs": [
    {
     "data": {
      "text/plain": [
       "6"
      ]
     },
     "execution_count": 39,
     "metadata": {},
     "output_type": "execute_result"
    }
   ],
   "source": [
    "a = 2\n",
    "b = 4\n",
    "a + b "
   ]
  },
  {
   "cell_type": "code",
   "execution_count": 40,
   "metadata": {},
   "outputs": [
    {
     "data": {
      "text/plain": [
       "'chcę do domuuuuchcę do domuuuuchcę do domuuuuchcę do domuuuu'"
      ]
     },
     "execution_count": 40,
     "metadata": {},
     "output_type": "execute_result"
    }
   ],
   "source": [
    "b * c"
   ]
  },
  {
   "cell_type": "code",
   "execution_count": 41,
   "metadata": {},
   "outputs": [
    {
     "data": {
      "text/plain": [
       "'co ja tu robię xddddddddco ja tu robię xddddddddco ja tu robię xddddddddco ja tu robię xdddddddd'"
      ]
     },
     "execution_count": 41,
     "metadata": {},
     "output_type": "execute_result"
    }
   ],
   "source": [
    "b * kapusta"
   ]
  },
  {
   "cell_type": "code",
   "execution_count": 43,
   "metadata": {},
   "outputs": [
    {
     "data": {
      "text/plain": [
       "' spam  spam  spam  spam  spam  spam  spam  spam  spam  spam  spam  spam  spam  spam  spam  spam  spam  spam  spam  spam  spam  spam  spam  spam  spam  spam  spam  spam  spam  spam  spam  spam  spam  spam  spam  spam  spam  spam  spam  spam  spam  spam  spam  spam  spam  spam  spam  spam  spam  spam  spam  spam  spam  spam  spam  spam  spam  spam  spam  spam  spam  spam  spam  spam  spam  spam  spam  spam  spam  spam  spam  spam  spam  spam  spam  spam  spam  spam  spam  spam  spam  spam  spam  spam  spam  spam  spam  spam  spam  spam  spam  spam  spam  spam  spam  spam  spam  spam  spam  spam  spam  spam  spam  spam  spam  spam  spam  spam  spam  spam  spam  spam  spam  spam  spam  spam  spam  spam  spam  spam  spam  spam  spam  spam  spam  spam  spam  spam  spam  spam  spam  spam  spam  spam  spam  spam  spam  spam  spam  spam  spam  spam  spam  spam  spam  spam  spam  spam  spam  spam  spam  spam  spam  spam  spam  spam  spam  spam  spam  spam  spam  spam  spam  spam  spam  spam  spam  spam  spam  spam  spam  spam  spam  spam  spam  spam  spam  spam  spam  spam  spam  spam  spam  spam  spam  spam  spam  spam  spam  spam  spam  spam  spam  spam  spam  spam  spam  spam  spam  spam  spam  spam  spam  spam  spam  spam  spam  spam  spam  spam  spam  spam  spam  spam  spam  spam  spam  spam  spam  spam  spam  spam  spam  spam  spam  spam  spam  spam  spam  spam  spam  spam  spam  spam  spam  spam  spam  spam  spam  spam  spam  spam  spam  spam  spam  spam  spam  spam  spam  spam  spam  spam  spam  spam  spam  spam  spam  spam  spam  spam  spam  spam  spam  spam  spam  spam  spam  spam  spam  spam  spam  spam  spam  spam  spam  spam  spam  spam  spam  spam  spam  spam  spam  spam  spam  spam  spam  spam  spam  spam  spam  spam  spam  spam  spam  spam  spam  spam  spam  spam  spam  spam  spam  spam  spam  spam  spam  spam  spam  spam  spam  spam  spam  spam  spam  spam  spam  spam  spam  spam  spam  spam  spam  spam  spam  spam  spam  spam  spam  spam  spam  spam  spam  spam  spam  spam  spam  spam  spam  spam  spam  spam  spam  spam  spam  spam  spam  spam  spam  spam  spam  spam  spam  spam  spam  spam  spam  spam  spam  spam  spam  spam  spam  spam  spam  spam  spam  spam  spam  spam  spam  spam  spam  spam  spam  spam  spam  spam  spam  spam  spam  spam  spam  spam  spam  spam  spam  spam  spam  spam  spam  spam  spam  spam  spam  spam  spam  spam  spam  spam  spam  spam  spam  spam  spam  spam  spam  spam  spam  spam  spam  spam  spam  spam  spam  spam  spam  spam  spam  spam  spam  spam  spam  spam  spam  spam  spam  spam  spam  spam  spam  spam  spam  spam  spam  spam  spam  spam  spam  spam  spam  spam  spam  spam  spam  spam  spam  spam  spam  spam  spam  spam  spam  spam  spam  spam  spam  spam  spam  spam  spam  spam  spam  spam  spam  spam  spam  spam  spam  spam  spam  spam  spam  spam  spam  spam  spam  spam  spam  spam  spam  spam  spam  spam  spam  spam  spam  spam  spam  spam  spam  spam  spam  spam  spam  spam  spam  spam  spam  spam  spam  spam  spam  spam  spam  spam  spam  spam  spam  spam  spam  spam  spam  spam  spam  spam  spam  spam  spam  spam  spam  spam  spam  spam  spam  spam  spam  spam  spam  spam  spam  spam  spam  spam  spam  spam  spam  spam  spam  spam  spam  spam  spam  spam  spam  spam  spam  spam  spam  spam  spam  spam  spam  spam  spam  spam  spam  spam  spam  spam  spam  spam  spam  spam  spam  spam  spam  spam  spam  spam  spam  spam  spam  spam  spam  spam  spam  spam  spam  spam  spam  spam  spam  spam  spam  spam  spam  spam  spam  spam  spam  spam  spam  spam  spam  spam  spam  spam  spam  spam  spam  spam  spam  spam  spam  spam  spam  spam  spam  spam  spam  spam  spam  spam  spam  spam  spam  spam  spam  spam  spam  spam  spam  spam  spam  spam  spam  spam  spam  spam  spam  spam  spam  spam  spam  spam  spam  spam  spam  spam  spam  spam  spam  spam  spam  spam  spam  spam  spam  spam  spam  spam  spam  spam  spam  spam  spam  spam  spam  spam  spam  spam  spam  spam  spam  spam  spam  spam  spam  spam  spam  spam  spam  spam  spam  spam  spam  spam  spam  spam  spam  spam  spam  spam  spam  spam  spam  spam  spam  spam  spam  spam  spam  spam  spam  spam  spam  spam  spam  spam  spam  spam  spam  spam  spam  spam  spam  spam  spam  spam  spam  spam  spam  spam  spam  spam  spam  spam  spam  spam  spam  spam  spam  spam  spam  spam  spam  spam  spam  spam  spam  spam  spam  spam  spam  spam  spam  spam  spam  spam  spam  spam  spam  spam  spam  spam  spam  spam  spam  spam  spam  spam  spam  spam  spam  spam  spam  spam  spam  spam  spam  spam  spam  spam  spam  spam  spam  spam  spam  spam  spam  spam  spam  spam  spam  spam  spam  spam  spam  spam  spam  spam  spam  spam  spam  spam  spam  spam  spam  spam  spam  spam  spam  spam  spam  spam  spam  spam  spam  spam  spam  spam  spam  spam  spam  spam  spam  spam  spam  spam  spam  spam  spam  spam  spam  spam  spam  spam  spam  spam  spam  spam  spam  spam  spam  spam  spam  spam  spam  spam  spam  spam  spam  spam  spam  spam  spam  spam  spam  spam  spam  spam  spam  spam  spam  spam  spam  spam  spam  spam  spam  spam  spam  spam  spam  spam  spam  spam  spam  spam  spam  spam  spam  spam  spam  spam  spam  spam  spam  spam  spam  spam  spam  spam  spam  spam  spam  spam  spam  spam  spam  spam  spam  spam  spam  spam  spam  spam  spam  spam  spam  spam  spam  spam  spam  spam  spam  spam  spam  spam  spam  spam  spam  spam  spam  spam  spam  spam  spam  spam  spam  spam  spam  spam  spam  spam  spam  spam  spam  spam  spam  spam  spam  spam  spam  spam  spam  spam  spam  spam  spam  spam  spam  spam  spam  spam  spam  spam  spam  spam  spam  spam  spam  spam  spam  spam  spam  spam  spam  spam  spam  spam  spam  spam  spam  spam  spam  spam  spam  spam  spam  spam  spam  spam  spam  spam  spam  spam  spam  spam  spam  spam  spam  spam  spam  spam  spam  spam  spam  spam  spam  spam  spam  spam  spam  spam  spam  spam  spam  spam  spam  spam  spam  spam  spam  spam  spam  spam  spam  spam '"
      ]
     },
     "execution_count": 43,
     "metadata": {},
     "output_type": "execute_result"
    }
   ],
   "source": [
    "\" spam \" * 1000"
   ]
  },
  {
   "cell_type": "code",
   "execution_count": 45,
   "metadata": {},
   "outputs": [
    {
     "data": {
      "text/plain": [
       "'ala  ma  kota  kota '"
      ]
     },
     "execution_count": 45,
     "metadata": {},
     "output_type": "execute_result"
    }
   ],
   "source": [
    "\"ala \" + \" ma \" + \" kota \" * 2"
   ]
  },
  {
   "cell_type": "code",
   "execution_count": 46,
   "metadata": {},
   "outputs": [
    {
     "data": {
      "text/plain": [
       "False"
      ]
     },
     "execution_count": 46,
     "metadata": {},
     "output_type": "execute_result"
    }
   ],
   "source": [
    "\"ala\" > \"kota\""
   ]
  },
  {
   "cell_type": "code",
   "execution_count": 47,
   "metadata": {},
   "outputs": [
    {
     "data": {
      "text/plain": [
       "True"
      ]
     },
     "execution_count": 47,
     "metadata": {},
     "output_type": "execute_result"
    }
   ],
   "source": [
    "\" kota \" > \" ala \""
   ]
  },
  {
   "cell_type": "code",
   "execution_count": 48,
   "metadata": {},
   "outputs": [
    {
     "data": {
      "text/plain": [
       "True"
      ]
     },
     "execution_count": 48,
     "metadata": {},
     "output_type": "execute_result"
    }
   ],
   "source": [
    "\"a\" < \"b\""
   ]
  },
  {
   "cell_type": "code",
   "execution_count": 52,
   "metadata": {},
   "outputs": [
    {
     "data": {
      "text/plain": [
       "2"
      ]
     },
     "execution_count": 52,
     "metadata": {},
     "output_type": "execute_result"
    }
   ],
   "source": [
    "a = 3\n",
    "b = 4\n",
    "c = \"5\"\n",
    "d = int(c)\n",
    "a + b - d"
   ]
  },
  {
   "cell_type": "code",
   "execution_count": 53,
   "metadata": {},
   "outputs": [
    {
     "data": {
      "text/plain": [
       "int"
      ]
     },
     "execution_count": 53,
     "metadata": {},
     "output_type": "execute_result"
    }
   ],
   "source": [
    "type(d)"
   ]
  },
  {
   "cell_type": "code",
   "execution_count": 56,
   "metadata": {},
   "outputs": [
    {
     "name": "stdout",
     "output_type": "stream",
     "text": [
      "ala ma 3 koty\n"
     ]
    }
   ],
   "source": [
    "a = \"ala\"\n",
    "b = \" ma \"\n",
    "c = 300 / 100\n",
    "d = \" koty\"\n",
    "\n",
    "print(a + b + str(int(c)) +d)\n"
   ]
  },
  {
   "cell_type": "code",
   "execution_count": null,
   "metadata": {},
   "outputs": [],
   "source": []
  }
 ],
 "metadata": {
  "kernelspec": {
   "display_name": "Python 3",
   "language": "python",
   "name": "python3"
  },
  "language_info": {
   "codemirror_mode": {
    "name": "ipython",
    "version": 3
   },
   "file_extension": ".py",
   "mimetype": "text/x-python",
   "name": "python",
   "nbconvert_exporter": "python",
   "pygments_lexer": "ipython3",
   "version": "3.7.0"
  }
 },
 "nbformat": 4,
 "nbformat_minor": 2
}
