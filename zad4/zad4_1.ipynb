{
 "cells": [
  {
   "cell_type": "code",
   "execution_count": 2,
   "metadata": {},
   "outputs": [
    {
     "name": "stdin",
     "output_type": "stream",
     "text": [
      "Napisz dowolne zdanie: no i co teraz?\n"
     ]
    },
    {
     "name": "stdout",
     "output_type": "stream",
     "text": [
      "Nie wiem, nie znam się.\n"
     ]
    }
   ],
   "source": [
    "zad = input(\"Napisz dowolne zdanie:\")\n",
    "if zad[-1] == \".\":\n",
    "    print(\"Rozumiem. Pewnie masz rację.\")\n",
    "if zad [-1] == \"?\":\n",
    "    print(\"Nie wiem, nie znam się.\")\n",
    "if zad [-1] == \"!\":\n",
    "    print(\"Nie krzycz! Słyszę cię całkiem dobrze!\")\n"
   ]
  },
  {
   "cell_type": "code",
   "execution_count": null,
   "metadata": {},
   "outputs": [],
   "source": []
  }
 ],
 "metadata": {
  "kernelspec": {
   "display_name": "Python 3",
   "language": "python",
   "name": "python3"
  },
  "language_info": {
   "codemirror_mode": {
    "name": "ipython",
    "version": 3
   },
   "file_extension": ".py",
   "mimetype": "text/x-python",
   "name": "python",
   "nbconvert_exporter": "python",
   "pygments_lexer": "ipython3",
   "version": "3.7.0"
  }
 },
 "nbformat": 4,
 "nbformat_minor": 2
}
