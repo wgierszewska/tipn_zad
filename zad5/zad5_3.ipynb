{
 "cells": [
  {
   "cell_type": "code",
   "execution_count": 2,
   "metadata": {},
   "outputs": [
    {
     "name": "stdin",
     "output_type": "stream",
     "text": [
      "Proszę, napisz tu zdanie: abecadło\n"
     ]
    },
    {
     "name": "stdout",
     "output_type": "stream",
     "text": [
      "Liczba słów w Twoim zdaniu wynosi: 1\n"
     ]
    }
   ],
   "source": [
    "zd = input(\"Proszę, napisz tu zdanie:\")\n",
    "\n",
    "sp = 0\n",
    "\n",
    "for i in zd:\n",
    "    if i == \" \":\n",
    "        sp += 1\n",
    "\n",
    "sp = sp + 1        \n",
    "\n",
    "print(\"Liczba słów w Twoim zdaniu wynosi:\", sp)"
   ]
  },
  {
   "cell_type": "code",
   "execution_count": null,
   "metadata": {},
   "outputs": [],
   "source": []
  }
 ],
 "metadata": {
  "kernelspec": {
   "display_name": "Python 3",
   "language": "python",
   "name": "python3"
  },
  "language_info": {
   "codemirror_mode": {
    "name": "ipython",
    "version": 3
   },
   "file_extension": ".py",
   "mimetype": "text/x-python",
   "name": "python",
   "nbconvert_exporter": "python",
   "pygments_lexer": "ipython3",
   "version": "3.7.0"
  }
 },
 "nbformat": 4,
 "nbformat_minor": 2
}
